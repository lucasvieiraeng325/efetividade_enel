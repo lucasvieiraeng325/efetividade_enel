{
 "cells": [
  {
   "cell_type": "code",
   "execution_count": 1,
   "id": "274c5be4",
   "metadata": {},
   "outputs": [],
   "source": [
    "import pandas as pd\n",
    "import numpy as np\n",
    "import time\n",
    "from selenium.webdriver.common.keys import Keys\n",
    "import requests\n",
    "from requests.auth import HTTPBasicAuth\n",
    "import json\n",
    "import datetime as dt\n",
    "from tqdm.notebook import tqdm\n",
    "import plotly.express as px\n",
    "import plotly.graph_objects as go\n",
    "from plotly.offline import plot\n",
    "import win32com.client as win32\n",
    "from datetime import datetime\n",
    "from datetime import date"
   ]
  },
  {
   "cell_type": "code",
   "execution_count": 2,
   "id": "5675fb46",
   "metadata": {},
   "outputs": [],
   "source": [
    "url = 'http://10.152.157.13:83/api/v3/medidores?pasta=REN871&take=2000'\n",
    "headers = {'Content-Type': 'application/json','PIM-Auth': 'db3cca0c-1a5f-46e7-98ce-afa5cb3fe4a5'}\n",
    "req = requests.get(url, headers=headers) \n",
    "df = pd.DataFrame(req.json()['items'])"
   ]
  },
  {
   "cell_type": "code",
   "execution_count": 3,
   "id": "b38ba8c3",
   "metadata": {
    "scrolled": true
   },
   "outputs": [],
   "source": [
    "df_ini = pd.read_csv(r\"C:\\Users\\lucas.vieira\\Desktop\\Acompanhamento Amostrais\\efetividade_pim.csv\")"
   ]
  },
  {
   "cell_type": "code",
   "execution_count": 4,
   "id": "560c818f",
   "metadata": {},
   "outputs": [],
   "source": [
    "datainicio=df_ini.dataHora.max()\n",
    "today = date.today()\n",
    "datafim = today.strftime(\"%Y-%m-%d\")"
   ]
  },
  {
   "cell_type": "code",
   "execution_count": 5,
   "id": "78301d02",
   "metadata": {},
   "outputs": [],
   "source": [
    "url2 = 'http://10.152.157.13:83/api/v3/execucoes-de-comandos?' + '&execucao-datainicio=' + datainicio +'T00%3A00&execucao-datafim='+ datafim + 'T23%3A59&take=5000000'\n",
    "headers = {'Content-Type': 'application/json','PIM-Auth': 'db3cca0c-1a5f-46e7-98ce-afa5cb3fe4a5'}\n",
    "req2 = requests.get(url2, headers=headers)\n",
    "df_exec = pd.DataFrame(req2.json()['items'])\n",
    "df_exec['dataHora']=df_exec['dataHora'].str.split('T').str[0]\n",
    "df2=pd.pivot_table(df_exec, values='id', index=['medidorId','dataHora','status'],  aggfunc={'id': 'count'}).reset_index( )\n",
    "df2['status']=df2.status.replace({2:\"OK\",3:\"Erro\",8:\"Parcial\",6:\"Reagendado\",7:\"Reagendado\",0:\"Processando\"})\n",
    "df_pivot = pd.pivot_table(df2, index=['medidorId','dataHora'], columns = 'status',values = 'id',fill_value=0).reset_index()\n",
    "df=df.drop_duplicates(subset=['medidorId'],keep='last').fillna(0)\n",
    "lst=df['medidorId']\n",
    "df_pivot=df_pivot.query('medidorId in @lst')\n",
    "df_ini=pd.concat([df_ini, pd.merge(df_pivot,df_ini['medidorId'],on='medidorId',how='inner')], axis=0)\n",
    "df_ini=df_ini.drop_duplicates(subset=['medidorId','dataHora'],keep='last').fillna(0)"
   ]
  },
  {
   "cell_type": "code",
   "execution_count": 6,
   "id": "d3212cb4",
   "metadata": {},
   "outputs": [
    {
     "data": {
      "text/html": [
       "<div>\n",
       "<style scoped>\n",
       "    .dataframe tbody tr th:only-of-type {\n",
       "        vertical-align: middle;\n",
       "    }\n",
       "\n",
       "    .dataframe tbody tr th {\n",
       "        vertical-align: top;\n",
       "    }\n",
       "\n",
       "    .dataframe thead th {\n",
       "        text-align: right;\n",
       "    }\n",
       "</style>\n",
       "<table border=\"1\" class=\"dataframe\">\n",
       "  <thead>\n",
       "    <tr style=\"text-align: right;\">\n",
       "      <th></th>\n",
       "      <th>medidorId</th>\n",
       "      <th>dataHora</th>\n",
       "      <th>Erro</th>\n",
       "      <th>OK</th>\n",
       "      <th>Parcial</th>\n",
       "      <th>Processando</th>\n",
       "      <th>Reagendado</th>\n",
       "      <th>mes</th>\n",
       "    </tr>\n",
       "  </thead>\n",
       "  <tbody>\n",
       "    <tr>\n",
       "      <th>0</th>\n",
       "      <td>6518</td>\n",
       "      <td>2023-05-01</td>\n",
       "      <td>53</td>\n",
       "      <td>0</td>\n",
       "      <td>0</td>\n",
       "      <td>0.0</td>\n",
       "      <td>42.0</td>\n",
       "      <td>5.0</td>\n",
       "    </tr>\n",
       "    <tr>\n",
       "      <th>1</th>\n",
       "      <td>6518</td>\n",
       "      <td>2023-05-02</td>\n",
       "      <td>49</td>\n",
       "      <td>0</td>\n",
       "      <td>0</td>\n",
       "      <td>0.0</td>\n",
       "      <td>46.0</td>\n",
       "      <td>5.0</td>\n",
       "    </tr>\n",
       "    <tr>\n",
       "      <th>2</th>\n",
       "      <td>6518</td>\n",
       "      <td>2023-05-03</td>\n",
       "      <td>51</td>\n",
       "      <td>0</td>\n",
       "      <td>0</td>\n",
       "      <td>0.0</td>\n",
       "      <td>44.0</td>\n",
       "      <td>5.0</td>\n",
       "    </tr>\n",
       "    <tr>\n",
       "      <th>3</th>\n",
       "      <td>6518</td>\n",
       "      <td>2023-05-04</td>\n",
       "      <td>46</td>\n",
       "      <td>0</td>\n",
       "      <td>0</td>\n",
       "      <td>0.0</td>\n",
       "      <td>49.0</td>\n",
       "      <td>5.0</td>\n",
       "    </tr>\n",
       "    <tr>\n",
       "      <th>4</th>\n",
       "      <td>6518</td>\n",
       "      <td>2023-05-05</td>\n",
       "      <td>46</td>\n",
       "      <td>0</td>\n",
       "      <td>0</td>\n",
       "      <td>0.0</td>\n",
       "      <td>49.0</td>\n",
       "      <td>5.0</td>\n",
       "    </tr>\n",
       "    <tr>\n",
       "      <th>...</th>\n",
       "      <td>...</td>\n",
       "      <td>...</td>\n",
       "      <td>...</td>\n",
       "      <td>...</td>\n",
       "      <td>...</td>\n",
       "      <td>...</td>\n",
       "      <td>...</td>\n",
       "      <td>...</td>\n",
       "    </tr>\n",
       "    <tr>\n",
       "      <th>91339</th>\n",
       "      <td>9489</td>\n",
       "      <td>2023-06-20</td>\n",
       "      <td>47</td>\n",
       "      <td>0</td>\n",
       "      <td>0</td>\n",
       "      <td>0.0</td>\n",
       "      <td>11.0</td>\n",
       "      <td>0.0</td>\n",
       "    </tr>\n",
       "    <tr>\n",
       "      <th>91381</th>\n",
       "      <td>9490</td>\n",
       "      <td>2023-06-19</td>\n",
       "      <td>59</td>\n",
       "      <td>0</td>\n",
       "      <td>0</td>\n",
       "      <td>0.0</td>\n",
       "      <td>36.0</td>\n",
       "      <td>0.0</td>\n",
       "    </tr>\n",
       "    <tr>\n",
       "      <th>91423</th>\n",
       "      <td>9490</td>\n",
       "      <td>2023-06-20</td>\n",
       "      <td>47</td>\n",
       "      <td>0</td>\n",
       "      <td>0</td>\n",
       "      <td>0.0</td>\n",
       "      <td>11.0</td>\n",
       "      <td>0.0</td>\n",
       "    </tr>\n",
       "    <tr>\n",
       "      <th>91465</th>\n",
       "      <td>9491</td>\n",
       "      <td>2023-06-19</td>\n",
       "      <td>6</td>\n",
       "      <td>0</td>\n",
       "      <td>17</td>\n",
       "      <td>0.0</td>\n",
       "      <td>0.0</td>\n",
       "      <td>0.0</td>\n",
       "    </tr>\n",
       "    <tr>\n",
       "      <th>91507</th>\n",
       "      <td>9491</td>\n",
       "      <td>2023-06-20</td>\n",
       "      <td>10</td>\n",
       "      <td>0</td>\n",
       "      <td>6</td>\n",
       "      <td>0.0</td>\n",
       "      <td>1.0</td>\n",
       "      <td>0.0</td>\n",
       "    </tr>\n",
       "  </tbody>\n",
       "</table>\n",
       "<p>46783 rows × 8 columns</p>\n",
       "</div>"
      ],
      "text/plain": [
       "       medidorId    dataHora  Erro  OK  Parcial  Processando  Reagendado  mes\n",
       "0           6518  2023-05-01    53   0        0          0.0        42.0  5.0\n",
       "1           6518  2023-05-02    49   0        0          0.0        46.0  5.0\n",
       "2           6518  2023-05-03    51   0        0          0.0        44.0  5.0\n",
       "3           6518  2023-05-04    46   0        0          0.0        49.0  5.0\n",
       "4           6518  2023-05-05    46   0        0          0.0        49.0  5.0\n",
       "...          ...         ...   ...  ..      ...          ...         ...  ...\n",
       "91339       9489  2023-06-20    47   0        0          0.0        11.0  0.0\n",
       "91381       9490  2023-06-19    59   0        0          0.0        36.0  0.0\n",
       "91423       9490  2023-06-20    47   0        0          0.0        11.0  0.0\n",
       "91465       9491  2023-06-19     6   0       17          0.0         0.0  0.0\n",
       "91507       9491  2023-06-20    10   0        6          0.0         1.0  0.0\n",
       "\n",
       "[46783 rows x 8 columns]"
      ]
     },
     "execution_count": 6,
     "metadata": {},
     "output_type": "execute_result"
    }
   ],
   "source": [
    "df_ini"
   ]
  },
  {
   "cell_type": "code",
   "execution_count": 7,
   "id": "75350b16",
   "metadata": {},
   "outputs": [],
   "source": [
    "df_ini['mes'] = pd.DatetimeIndex(df_ini.dataHora).month"
   ]
  },
  {
   "cell_type": "code",
   "execution_count": 8,
   "id": "e69b4c9e",
   "metadata": {},
   "outputs": [],
   "source": [
    "df_ini.to_csv(r\"C:\\Users\\lucas.vieira\\Desktop\\Acompanhamento Amostrais\\efetividade_pim.csv\",index = False)"
   ]
  },
  {
   "cell_type": "code",
   "execution_count": 9,
   "id": "0004ef5a",
   "metadata": {},
   "outputs": [
    {
     "data": {
      "text/html": [
       "<div>\n",
       "<style scoped>\n",
       "    .dataframe tbody tr th:only-of-type {\n",
       "        vertical-align: middle;\n",
       "    }\n",
       "\n",
       "    .dataframe tbody tr th {\n",
       "        vertical-align: top;\n",
       "    }\n",
       "\n",
       "    .dataframe thead th {\n",
       "        text-align: right;\n",
       "    }\n",
       "</style>\n",
       "<table border=\"1\" class=\"dataframe\">\n",
       "  <thead>\n",
       "    <tr style=\"text-align: right;\">\n",
       "      <th></th>\n",
       "      <th>medidorId</th>\n",
       "      <th>dataHora</th>\n",
       "      <th>Erro</th>\n",
       "      <th>OK</th>\n",
       "      <th>Parcial</th>\n",
       "      <th>Processando</th>\n",
       "      <th>Reagendado</th>\n",
       "      <th>mes</th>\n",
       "      <th>coletas</th>\n",
       "      <th>ano</th>\n",
       "    </tr>\n",
       "  </thead>\n",
       "  <tbody>\n",
       "    <tr>\n",
       "      <th>0</th>\n",
       "      <td>6518</td>\n",
       "      <td>2023-05-01</td>\n",
       "      <td>53</td>\n",
       "      <td>0</td>\n",
       "      <td>0</td>\n",
       "      <td>0.0</td>\n",
       "      <td>42.0</td>\n",
       "      <td>5</td>\n",
       "      <td>0</td>\n",
       "      <td>2023</td>\n",
       "    </tr>\n",
       "    <tr>\n",
       "      <th>1</th>\n",
       "      <td>6518</td>\n",
       "      <td>2023-05-02</td>\n",
       "      <td>49</td>\n",
       "      <td>0</td>\n",
       "      <td>0</td>\n",
       "      <td>0.0</td>\n",
       "      <td>46.0</td>\n",
       "      <td>5</td>\n",
       "      <td>0</td>\n",
       "      <td>2023</td>\n",
       "    </tr>\n",
       "    <tr>\n",
       "      <th>2</th>\n",
       "      <td>6518</td>\n",
       "      <td>2023-05-03</td>\n",
       "      <td>51</td>\n",
       "      <td>0</td>\n",
       "      <td>0</td>\n",
       "      <td>0.0</td>\n",
       "      <td>44.0</td>\n",
       "      <td>5</td>\n",
       "      <td>0</td>\n",
       "      <td>2023</td>\n",
       "    </tr>\n",
       "    <tr>\n",
       "      <th>3</th>\n",
       "      <td>6518</td>\n",
       "      <td>2023-05-04</td>\n",
       "      <td>46</td>\n",
       "      <td>0</td>\n",
       "      <td>0</td>\n",
       "      <td>0.0</td>\n",
       "      <td>49.0</td>\n",
       "      <td>5</td>\n",
       "      <td>0</td>\n",
       "      <td>2023</td>\n",
       "    </tr>\n",
       "    <tr>\n",
       "      <th>4</th>\n",
       "      <td>6518</td>\n",
       "      <td>2023-05-05</td>\n",
       "      <td>46</td>\n",
       "      <td>0</td>\n",
       "      <td>0</td>\n",
       "      <td>0.0</td>\n",
       "      <td>49.0</td>\n",
       "      <td>5</td>\n",
       "      <td>0</td>\n",
       "      <td>2023</td>\n",
       "    </tr>\n",
       "    <tr>\n",
       "      <th>...</th>\n",
       "      <td>...</td>\n",
       "      <td>...</td>\n",
       "      <td>...</td>\n",
       "      <td>...</td>\n",
       "      <td>...</td>\n",
       "      <td>...</td>\n",
       "      <td>...</td>\n",
       "      <td>...</td>\n",
       "      <td>...</td>\n",
       "      <td>...</td>\n",
       "    </tr>\n",
       "    <tr>\n",
       "      <th>91339</th>\n",
       "      <td>9489</td>\n",
       "      <td>2023-06-20</td>\n",
       "      <td>47</td>\n",
       "      <td>0</td>\n",
       "      <td>0</td>\n",
       "      <td>0.0</td>\n",
       "      <td>11.0</td>\n",
       "      <td>6</td>\n",
       "      <td>0</td>\n",
       "      <td>2023</td>\n",
       "    </tr>\n",
       "    <tr>\n",
       "      <th>91381</th>\n",
       "      <td>9490</td>\n",
       "      <td>2023-06-19</td>\n",
       "      <td>59</td>\n",
       "      <td>0</td>\n",
       "      <td>0</td>\n",
       "      <td>0.0</td>\n",
       "      <td>36.0</td>\n",
       "      <td>6</td>\n",
       "      <td>0</td>\n",
       "      <td>2023</td>\n",
       "    </tr>\n",
       "    <tr>\n",
       "      <th>91423</th>\n",
       "      <td>9490</td>\n",
       "      <td>2023-06-20</td>\n",
       "      <td>47</td>\n",
       "      <td>0</td>\n",
       "      <td>0</td>\n",
       "      <td>0.0</td>\n",
       "      <td>11.0</td>\n",
       "      <td>6</td>\n",
       "      <td>0</td>\n",
       "      <td>2023</td>\n",
       "    </tr>\n",
       "    <tr>\n",
       "      <th>91465</th>\n",
       "      <td>9491</td>\n",
       "      <td>2023-06-19</td>\n",
       "      <td>6</td>\n",
       "      <td>0</td>\n",
       "      <td>17</td>\n",
       "      <td>0.0</td>\n",
       "      <td>0.0</td>\n",
       "      <td>6</td>\n",
       "      <td>17</td>\n",
       "      <td>2023</td>\n",
       "    </tr>\n",
       "    <tr>\n",
       "      <th>91507</th>\n",
       "      <td>9491</td>\n",
       "      <td>2023-06-20</td>\n",
       "      <td>10</td>\n",
       "      <td>0</td>\n",
       "      <td>6</td>\n",
       "      <td>0.0</td>\n",
       "      <td>1.0</td>\n",
       "      <td>6</td>\n",
       "      <td>6</td>\n",
       "      <td>2023</td>\n",
       "    </tr>\n",
       "  </tbody>\n",
       "</table>\n",
       "<p>46783 rows × 10 columns</p>\n",
       "</div>"
      ],
      "text/plain": [
       "       medidorId    dataHora  Erro  OK  Parcial  Processando  Reagendado  mes   \n",
       "0           6518  2023-05-01    53   0        0          0.0        42.0    5  \\\n",
       "1           6518  2023-05-02    49   0        0          0.0        46.0    5   \n",
       "2           6518  2023-05-03    51   0        0          0.0        44.0    5   \n",
       "3           6518  2023-05-04    46   0        0          0.0        49.0    5   \n",
       "4           6518  2023-05-05    46   0        0          0.0        49.0    5   \n",
       "...          ...         ...   ...  ..      ...          ...         ...  ...   \n",
       "91339       9489  2023-06-20    47   0        0          0.0        11.0    6   \n",
       "91381       9490  2023-06-19    59   0        0          0.0        36.0    6   \n",
       "91423       9490  2023-06-20    47   0        0          0.0        11.0    6   \n",
       "91465       9491  2023-06-19     6   0       17          0.0         0.0    6   \n",
       "91507       9491  2023-06-20    10   0        6          0.0         1.0    6   \n",
       "\n",
       "       coletas   ano  \n",
       "0            0  2023  \n",
       "1            0  2023  \n",
       "2            0  2023  \n",
       "3            0  2023  \n",
       "4            0  2023  \n",
       "...        ...   ...  \n",
       "91339        0  2023  \n",
       "91381        0  2023  \n",
       "91423        0  2023  \n",
       "91465       17  2023  \n",
       "91507        6  2023  \n",
       "\n",
       "[46783 rows x 10 columns]"
      ]
     },
     "execution_count": 9,
     "metadata": {},
     "output_type": "execute_result"
    }
   ],
   "source": [
    "df_nodup=df_ini.drop_duplicates(subset=['medidorId','dataHora'],keep='last').fillna(0)\n",
    "df_nodup['coletas'] = df_nodup['Parcial'] + df_nodup['OK']\n",
    "df_nodup['mes'] = pd.DatetimeIndex(df_nodup.dataHora).month\n",
    "df_nodup['ano'] = pd.DatetimeIndex(df_nodup.dataHora).year\n",
    "df_nodup"
   ]
  },
  {
   "cell_type": "code",
   "execution_count": 10,
   "id": "805aa407",
   "metadata": {
    "scrolled": true
   },
   "outputs": [
    {
     "data": {
      "text/html": [
       "<div>\n",
       "<style scoped>\n",
       "    .dataframe tbody tr th:only-of-type {\n",
       "        vertical-align: middle;\n",
       "    }\n",
       "\n",
       "    .dataframe tbody tr th {\n",
       "        vertical-align: top;\n",
       "    }\n",
       "\n",
       "    .dataframe thead th {\n",
       "        text-align: right;\n",
       "    }\n",
       "</style>\n",
       "<table border=\"1\" class=\"dataframe\">\n",
       "  <thead>\n",
       "    <tr style=\"text-align: right;\">\n",
       "      <th></th>\n",
       "      <th>dataHora</th>\n",
       "      <th>Status</th>\n",
       "      <th>medidores_instalados</th>\n",
       "    </tr>\n",
       "  </thead>\n",
       "  <tbody>\n",
       "    <tr>\n",
       "      <th>0</th>\n",
       "      <td>2022-08-22</td>\n",
       "      <td>1</td>\n",
       "      <td>1</td>\n",
       "    </tr>\n",
       "    <tr>\n",
       "      <th>1</th>\n",
       "      <td>2022-08-25</td>\n",
       "      <td>2</td>\n",
       "      <td>3</td>\n",
       "    </tr>\n",
       "    <tr>\n",
       "      <th>2</th>\n",
       "      <td>2022-08-30</td>\n",
       "      <td>17</td>\n",
       "      <td>20</td>\n",
       "    </tr>\n",
       "    <tr>\n",
       "      <th>3</th>\n",
       "      <td>2022-08-31</td>\n",
       "      <td>2</td>\n",
       "      <td>22</td>\n",
       "    </tr>\n",
       "    <tr>\n",
       "      <th>4</th>\n",
       "      <td>2022-09-01</td>\n",
       "      <td>1</td>\n",
       "      <td>23</td>\n",
       "    </tr>\n",
       "    <tr>\n",
       "      <th>...</th>\n",
       "      <td>...</td>\n",
       "      <td>...</td>\n",
       "      <td>...</td>\n",
       "    </tr>\n",
       "    <tr>\n",
       "      <th>129</th>\n",
       "      <td>2023-06-13</td>\n",
       "      <td>1</td>\n",
       "      <td>1028</td>\n",
       "    </tr>\n",
       "    <tr>\n",
       "      <th>130</th>\n",
       "      <td>2023-06-14</td>\n",
       "      <td>3</td>\n",
       "      <td>1031</td>\n",
       "    </tr>\n",
       "    <tr>\n",
       "      <th>131</th>\n",
       "      <td>2023-06-16</td>\n",
       "      <td>2</td>\n",
       "      <td>1033</td>\n",
       "    </tr>\n",
       "    <tr>\n",
       "      <th>132</th>\n",
       "      <td>2023-06-17</td>\n",
       "      <td>1</td>\n",
       "      <td>1034</td>\n",
       "    </tr>\n",
       "    <tr>\n",
       "      <th>133</th>\n",
       "      <td>2023-06-19</td>\n",
       "      <td>2</td>\n",
       "      <td>1036</td>\n",
       "    </tr>\n",
       "  </tbody>\n",
       "</table>\n",
       "<p>134 rows × 3 columns</p>\n",
       "</div>"
      ],
      "text/plain": [
       "      dataHora  Status  medidores_instalados\n",
       "0   2022-08-22       1                     1\n",
       "1   2022-08-25       2                     3\n",
       "2   2022-08-30      17                    20\n",
       "3   2022-08-31       2                    22\n",
       "4   2022-09-01       1                    23\n",
       "..         ...     ...                   ...\n",
       "129 2023-06-13       1                  1028\n",
       "130 2023-06-14       3                  1031\n",
       "131 2023-06-16       2                  1033\n",
       "132 2023-06-17       1                  1034\n",
       "133 2023-06-19       2                  1036\n",
       "\n",
       "[134 rows x 3 columns]"
      ]
     },
     "execution_count": 10,
     "metadata": {},
     "output_type": "execute_result"
    }
   ],
   "source": [
    "df_instalados = pd.read_excel(r\"C:\\Users\\lucas.vieira\\Desktop\\Acompanhamento Amostrais\\REN871_MED_UC_CHIP_RJ.xlsx\", sheet_name='Base')\n",
    "df_instalados = df_instalados.query(\"Status == 'Instalado'\")\n",
    "df_date = df_instalados[['Status','Data Instalação']].groupby('Data Instalação').count().reset_index()\n",
    "df_date['medidores_instalados']=df_date['Status'].cumsum()\n",
    "df_date = df_date.rename(columns={'Data Instalação': 'dataHora'})\n",
    "df_date"
   ]
  },
  {
   "cell_type": "code",
   "execution_count": 11,
   "id": "ef006f64",
   "metadata": {},
   "outputs": [],
   "source": [
    "mes=date.today().month\n",
    "ano=date.today().year"
   ]
  },
  {
   "cell_type": "code",
   "execution_count": 12,
   "id": "0e6974d9",
   "metadata": {},
   "outputs": [],
   "source": [
    "df_efe = df_nodup[['coletas','dataHora','mes','ano']].query(\"( mes == @mes) and ( ano == @ano) and( coletas >0) \").drop(['ano','mes'],axis=1).groupby(['dataHora']).count().reset_index()\n",
    "df_efe['dataHora'] = pd.to_datetime(df_efe['dataHora'])\n",
    "df_efe = df_efe.sort_values(['dataHora'])\n",
    "tol = pd.Timedelta('10 day')\n",
    "df_final = pd.merge_asof(df_efe,df_date[['dataHora','medidores_instalados']],on = 'dataHora',direction='nearest',tolerance=tol)\n",
    "df_final = df_final.ffill()\n",
    "df_final['efetividade'] = df_final['coletas']/ df_final['medidores_instalados']\n",
    "df_final['perc_%'] = df_final['efetividade'].map('{:.2%}'.format)\n",
    "df_final['Dia']=df_final.dataHora.dt.day"
   ]
  },
  {
   "cell_type": "code",
   "execution_count": 13,
   "id": "f3abf643",
   "metadata": {
    "scrolled": true
   },
   "outputs": [
    {
     "data": {
      "application/vnd.plotly.v1+json": {
       "config": {
        "plotlyServerURL": "https://plot.ly"
       },
       "data": [
        {
         "alignmentgroup": "True",
         "hovertemplate": "Dia=%{x}<br>efetividade=%{y}<br>perc_%=%{text}<extra></extra>",
         "legendgroup": "",
         "marker": {
          "color": "#636efa",
          "pattern": {
           "shape": ""
          }
         },
         "name": "",
         "offsetgroup": "",
         "orientation": "v",
         "showlegend": false,
         "text": [
          "69.48%",
          "69.38%",
          "69.61%",
          "69.71%",
          "69.90%",
          "69.54%",
          "69.93%",
          "69.34%",
          "69.64%",
          "69.33%",
          "69.13%",
          "69.81%",
          "69.26%",
          "69.84%",
          "70.13%",
          "69.51%",
          "69.34%",
          "69.73%",
          "69.31%",
          "69.02%"
         ],
         "textfont": {
          "color": "white",
          "size": 20
         },
         "textposition": "inside",
         "type": "bar",
         "x": [
          1,
          2,
          3,
          4,
          5,
          6,
          7,
          8,
          9,
          10,
          11,
          12,
          13,
          14,
          15,
          16,
          17,
          18,
          19,
          20
         ],
         "xaxis": "x",
         "y": [
          0.6947988223748773,
          0.6938174681059862,
          0.696078431372549,
          0.6970588235294117,
          0.6990196078431372,
          0.6953966699314398,
          0.6993143976493633,
          0.693437806072478,
          0.6963761018609207,
          0.6932814021421616,
          0.691333982473223,
          0.6981499513145083,
          0.6926070038910506,
          0.6983511154219205,
          0.7012609117361784,
          0.6950629235237173,
          0.6934235976789168,
          0.6972920696324951,
          0.693050193050193,
          0.6901544401544402
         ],
         "yaxis": "y"
        }
       ],
       "layout": {
        "autosize": false,
        "barmode": "group",
        "height": 500,
        "legend": {
         "tracegroupgap": 0
        },
        "margin": {
         "t": 60
        },
        "shapes": [
         {
          "line": {
           "color": "red",
           "width": 2
          },
          "type": "line",
          "x0": 0,
          "x1": 31,
          "y0": 0.8,
          "y1": 0.8
         }
        ],
        "template": {
         "data": {
          "bar": [
           {
            "error_x": {
             "color": "#2a3f5f"
            },
            "error_y": {
             "color": "#2a3f5f"
            },
            "marker": {
             "line": {
              "color": "#E5ECF6",
              "width": 0.5
             },
             "pattern": {
              "fillmode": "overlay",
              "size": 10,
              "solidity": 0.2
             }
            },
            "type": "bar"
           }
          ],
          "barpolar": [
           {
            "marker": {
             "line": {
              "color": "#E5ECF6",
              "width": 0.5
             },
             "pattern": {
              "fillmode": "overlay",
              "size": 10,
              "solidity": 0.2
             }
            },
            "type": "barpolar"
           }
          ],
          "carpet": [
           {
            "aaxis": {
             "endlinecolor": "#2a3f5f",
             "gridcolor": "white",
             "linecolor": "white",
             "minorgridcolor": "white",
             "startlinecolor": "#2a3f5f"
            },
            "baxis": {
             "endlinecolor": "#2a3f5f",
             "gridcolor": "white",
             "linecolor": "white",
             "minorgridcolor": "white",
             "startlinecolor": "#2a3f5f"
            },
            "type": "carpet"
           }
          ],
          "choropleth": [
           {
            "colorbar": {
             "outlinewidth": 0,
             "ticks": ""
            },
            "type": "choropleth"
           }
          ],
          "contour": [
           {
            "colorbar": {
             "outlinewidth": 0,
             "ticks": ""
            },
            "colorscale": [
             [
              0,
              "#0d0887"
             ],
             [
              0.1111111111111111,
              "#46039f"
             ],
             [
              0.2222222222222222,
              "#7201a8"
             ],
             [
              0.3333333333333333,
              "#9c179e"
             ],
             [
              0.4444444444444444,
              "#bd3786"
             ],
             [
              0.5555555555555556,
              "#d8576b"
             ],
             [
              0.6666666666666666,
              "#ed7953"
             ],
             [
              0.7777777777777778,
              "#fb9f3a"
             ],
             [
              0.8888888888888888,
              "#fdca26"
             ],
             [
              1,
              "#f0f921"
             ]
            ],
            "type": "contour"
           }
          ],
          "contourcarpet": [
           {
            "colorbar": {
             "outlinewidth": 0,
             "ticks": ""
            },
            "type": "contourcarpet"
           }
          ],
          "heatmap": [
           {
            "colorbar": {
             "outlinewidth": 0,
             "ticks": ""
            },
            "colorscale": [
             [
              0,
              "#0d0887"
             ],
             [
              0.1111111111111111,
              "#46039f"
             ],
             [
              0.2222222222222222,
              "#7201a8"
             ],
             [
              0.3333333333333333,
              "#9c179e"
             ],
             [
              0.4444444444444444,
              "#bd3786"
             ],
             [
              0.5555555555555556,
              "#d8576b"
             ],
             [
              0.6666666666666666,
              "#ed7953"
             ],
             [
              0.7777777777777778,
              "#fb9f3a"
             ],
             [
              0.8888888888888888,
              "#fdca26"
             ],
             [
              1,
              "#f0f921"
             ]
            ],
            "type": "heatmap"
           }
          ],
          "heatmapgl": [
           {
            "colorbar": {
             "outlinewidth": 0,
             "ticks": ""
            },
            "colorscale": [
             [
              0,
              "#0d0887"
             ],
             [
              0.1111111111111111,
              "#46039f"
             ],
             [
              0.2222222222222222,
              "#7201a8"
             ],
             [
              0.3333333333333333,
              "#9c179e"
             ],
             [
              0.4444444444444444,
              "#bd3786"
             ],
             [
              0.5555555555555556,
              "#d8576b"
             ],
             [
              0.6666666666666666,
              "#ed7953"
             ],
             [
              0.7777777777777778,
              "#fb9f3a"
             ],
             [
              0.8888888888888888,
              "#fdca26"
             ],
             [
              1,
              "#f0f921"
             ]
            ],
            "type": "heatmapgl"
           }
          ],
          "histogram": [
           {
            "marker": {
             "pattern": {
              "fillmode": "overlay",
              "size": 10,
              "solidity": 0.2
             }
            },
            "type": "histogram"
           }
          ],
          "histogram2d": [
           {
            "colorbar": {
             "outlinewidth": 0,
             "ticks": ""
            },
            "colorscale": [
             [
              0,
              "#0d0887"
             ],
             [
              0.1111111111111111,
              "#46039f"
             ],
             [
              0.2222222222222222,
              "#7201a8"
             ],
             [
              0.3333333333333333,
              "#9c179e"
             ],
             [
              0.4444444444444444,
              "#bd3786"
             ],
             [
              0.5555555555555556,
              "#d8576b"
             ],
             [
              0.6666666666666666,
              "#ed7953"
             ],
             [
              0.7777777777777778,
              "#fb9f3a"
             ],
             [
              0.8888888888888888,
              "#fdca26"
             ],
             [
              1,
              "#f0f921"
             ]
            ],
            "type": "histogram2d"
           }
          ],
          "histogram2dcontour": [
           {
            "colorbar": {
             "outlinewidth": 0,
             "ticks": ""
            },
            "colorscale": [
             [
              0,
              "#0d0887"
             ],
             [
              0.1111111111111111,
              "#46039f"
             ],
             [
              0.2222222222222222,
              "#7201a8"
             ],
             [
              0.3333333333333333,
              "#9c179e"
             ],
             [
              0.4444444444444444,
              "#bd3786"
             ],
             [
              0.5555555555555556,
              "#d8576b"
             ],
             [
              0.6666666666666666,
              "#ed7953"
             ],
             [
              0.7777777777777778,
              "#fb9f3a"
             ],
             [
              0.8888888888888888,
              "#fdca26"
             ],
             [
              1,
              "#f0f921"
             ]
            ],
            "type": "histogram2dcontour"
           }
          ],
          "mesh3d": [
           {
            "colorbar": {
             "outlinewidth": 0,
             "ticks": ""
            },
            "type": "mesh3d"
           }
          ],
          "parcoords": [
           {
            "line": {
             "colorbar": {
              "outlinewidth": 0,
              "ticks": ""
             }
            },
            "type": "parcoords"
           }
          ],
          "pie": [
           {
            "automargin": true,
            "type": "pie"
           }
          ],
          "scatter": [
           {
            "fillpattern": {
             "fillmode": "overlay",
             "size": 10,
             "solidity": 0.2
            },
            "type": "scatter"
           }
          ],
          "scatter3d": [
           {
            "line": {
             "colorbar": {
              "outlinewidth": 0,
              "ticks": ""
             }
            },
            "marker": {
             "colorbar": {
              "outlinewidth": 0,
              "ticks": ""
             }
            },
            "type": "scatter3d"
           }
          ],
          "scattercarpet": [
           {
            "marker": {
             "colorbar": {
              "outlinewidth": 0,
              "ticks": ""
             }
            },
            "type": "scattercarpet"
           }
          ],
          "scattergeo": [
           {
            "marker": {
             "colorbar": {
              "outlinewidth": 0,
              "ticks": ""
             }
            },
            "type": "scattergeo"
           }
          ],
          "scattergl": [
           {
            "marker": {
             "colorbar": {
              "outlinewidth": 0,
              "ticks": ""
             }
            },
            "type": "scattergl"
           }
          ],
          "scattermapbox": [
           {
            "marker": {
             "colorbar": {
              "outlinewidth": 0,
              "ticks": ""
             }
            },
            "type": "scattermapbox"
           }
          ],
          "scatterpolar": [
           {
            "marker": {
             "colorbar": {
              "outlinewidth": 0,
              "ticks": ""
             }
            },
            "type": "scatterpolar"
           }
          ],
          "scatterpolargl": [
           {
            "marker": {
             "colorbar": {
              "outlinewidth": 0,
              "ticks": ""
             }
            },
            "type": "scatterpolargl"
           }
          ],
          "scatterternary": [
           {
            "marker": {
             "colorbar": {
              "outlinewidth": 0,
              "ticks": ""
             }
            },
            "type": "scatterternary"
           }
          ],
          "surface": [
           {
            "colorbar": {
             "outlinewidth": 0,
             "ticks": ""
            },
            "colorscale": [
             [
              0,
              "#0d0887"
             ],
             [
              0.1111111111111111,
              "#46039f"
             ],
             [
              0.2222222222222222,
              "#7201a8"
             ],
             [
              0.3333333333333333,
              "#9c179e"
             ],
             [
              0.4444444444444444,
              "#bd3786"
             ],
             [
              0.5555555555555556,
              "#d8576b"
             ],
             [
              0.6666666666666666,
              "#ed7953"
             ],
             [
              0.7777777777777778,
              "#fb9f3a"
             ],
             [
              0.8888888888888888,
              "#fdca26"
             ],
             [
              1,
              "#f0f921"
             ]
            ],
            "type": "surface"
           }
          ],
          "table": [
           {
            "cells": {
             "fill": {
              "color": "#EBF0F8"
             },
             "line": {
              "color": "white"
             }
            },
            "header": {
             "fill": {
              "color": "#C8D4E3"
             },
             "line": {
              "color": "white"
             }
            },
            "type": "table"
           }
          ]
         },
         "layout": {
          "annotationdefaults": {
           "arrowcolor": "#2a3f5f",
           "arrowhead": 0,
           "arrowwidth": 1
          },
          "autotypenumbers": "strict",
          "coloraxis": {
           "colorbar": {
            "outlinewidth": 0,
            "ticks": ""
           }
          },
          "colorscale": {
           "diverging": [
            [
             0,
             "#8e0152"
            ],
            [
             0.1,
             "#c51b7d"
            ],
            [
             0.2,
             "#de77ae"
            ],
            [
             0.3,
             "#f1b6da"
            ],
            [
             0.4,
             "#fde0ef"
            ],
            [
             0.5,
             "#f7f7f7"
            ],
            [
             0.6,
             "#e6f5d0"
            ],
            [
             0.7,
             "#b8e186"
            ],
            [
             0.8,
             "#7fbc41"
            ],
            [
             0.9,
             "#4d9221"
            ],
            [
             1,
             "#276419"
            ]
           ],
           "sequential": [
            [
             0,
             "#0d0887"
            ],
            [
             0.1111111111111111,
             "#46039f"
            ],
            [
             0.2222222222222222,
             "#7201a8"
            ],
            [
             0.3333333333333333,
             "#9c179e"
            ],
            [
             0.4444444444444444,
             "#bd3786"
            ],
            [
             0.5555555555555556,
             "#d8576b"
            ],
            [
             0.6666666666666666,
             "#ed7953"
            ],
            [
             0.7777777777777778,
             "#fb9f3a"
            ],
            [
             0.8888888888888888,
             "#fdca26"
            ],
            [
             1,
             "#f0f921"
            ]
           ],
           "sequentialminus": [
            [
             0,
             "#0d0887"
            ],
            [
             0.1111111111111111,
             "#46039f"
            ],
            [
             0.2222222222222222,
             "#7201a8"
            ],
            [
             0.3333333333333333,
             "#9c179e"
            ],
            [
             0.4444444444444444,
             "#bd3786"
            ],
            [
             0.5555555555555556,
             "#d8576b"
            ],
            [
             0.6666666666666666,
             "#ed7953"
            ],
            [
             0.7777777777777778,
             "#fb9f3a"
            ],
            [
             0.8888888888888888,
             "#fdca26"
            ],
            [
             1,
             "#f0f921"
            ]
           ]
          },
          "colorway": [
           "#636efa",
           "#EF553B",
           "#00cc96",
           "#ab63fa",
           "#FFA15A",
           "#19d3f3",
           "#FF6692",
           "#B6E880",
           "#FF97FF",
           "#FECB52"
          ],
          "font": {
           "color": "#2a3f5f"
          },
          "geo": {
           "bgcolor": "white",
           "lakecolor": "white",
           "landcolor": "#E5ECF6",
           "showlakes": true,
           "showland": true,
           "subunitcolor": "white"
          },
          "hoverlabel": {
           "align": "left"
          },
          "hovermode": "closest",
          "mapbox": {
           "style": "light"
          },
          "paper_bgcolor": "white",
          "plot_bgcolor": "#E5ECF6",
          "polar": {
           "angularaxis": {
            "gridcolor": "white",
            "linecolor": "white",
            "ticks": ""
           },
           "bgcolor": "#E5ECF6",
           "radialaxis": {
            "gridcolor": "white",
            "linecolor": "white",
            "ticks": ""
           }
          },
          "scene": {
           "xaxis": {
            "backgroundcolor": "#E5ECF6",
            "gridcolor": "white",
            "gridwidth": 2,
            "linecolor": "white",
            "showbackground": true,
            "ticks": "",
            "zerolinecolor": "white"
           },
           "yaxis": {
            "backgroundcolor": "#E5ECF6",
            "gridcolor": "white",
            "gridwidth": 2,
            "linecolor": "white",
            "showbackground": true,
            "ticks": "",
            "zerolinecolor": "white"
           },
           "zaxis": {
            "backgroundcolor": "#E5ECF6",
            "gridcolor": "white",
            "gridwidth": 2,
            "linecolor": "white",
            "showbackground": true,
            "ticks": "",
            "zerolinecolor": "white"
           }
          },
          "shapedefaults": {
           "line": {
            "color": "#2a3f5f"
           }
          },
          "ternary": {
           "aaxis": {
            "gridcolor": "white",
            "linecolor": "white",
            "ticks": ""
           },
           "baxis": {
            "gridcolor": "white",
            "linecolor": "white",
            "ticks": ""
           },
           "bgcolor": "#E5ECF6",
           "caxis": {
            "gridcolor": "white",
            "linecolor": "white",
            "ticks": ""
           }
          },
          "title": {
           "x": 0.05
          },
          "xaxis": {
           "automargin": true,
           "gridcolor": "white",
           "linecolor": "white",
           "ticks": "",
           "title": {
            "standoff": 15
           },
           "zerolinecolor": "white",
           "zerolinewidth": 2
          },
          "yaxis": {
           "automargin": true,
           "gridcolor": "white",
           "linecolor": "white",
           "ticks": "",
           "title": {
            "standoff": 15
           },
           "zerolinecolor": "white",
           "zerolinewidth": 2
          }
         }
        },
        "title": {
         "font": {
          "size": 20
         },
         "text": "Efetividade Junho",
         "x": 0.5
        },
        "width": 1200,
        "xaxis": {
         "anchor": "y",
         "domain": [
          0,
          1
         ],
         "range": [
          0,
          31
         ],
         "tickmode": "linear",
         "title": {
          "text": "Dia"
         }
        },
        "yaxis": {
         "anchor": "x",
         "domain": [
          0,
          1
         ],
         "range": [
          0,
          1
         ],
         "title": {
          "text": "efetividade"
         }
        }
       }
      }
     },
     "metadata": {},
     "output_type": "display_data"
    }
   ],
   "source": [
    "efetividade = px.bar(df_final,y='efetividade' ,\n",
    "                     x = 'Dia',\n",
    "                     barmode='group', \n",
    "                     text = 'perc_%')\n",
    "efetividade.update_layout(  xaxis=dict(\n",
    "                            tickmode='linear'\n",
    "    )\n",
    "                          \n",
    "    )\n",
    "efetividade.update_layout(yaxis_range=[0,1],\n",
    "                          title_font=dict(size=20))\n",
    "efetividade.update_layout(xaxis_range=[0,31],\n",
    "                          title_font=dict(size=20))\n",
    "efetividade.update_layout(title_text='Efetividade Junho', title_x=0.5)\n",
    "efetividade.update_traces(textposition=\"inside\", textfont=dict(size=20, color='white'))\n",
    "efetividade.update_layout(\n",
    "    autosize=False,\n",
    "    width=1200,\n",
    "    height=500)\n",
    "efetividade.add_shape(type=\"line\", x0=0, y0=0.8, x1=31, y1=0.8, line_width=2, line_color=\"red\")\n",
    "efetividade.show()\n",
    "efetividade.write_image(\"efetividade.png\")"
   ]
  },
  {
   "cell_type": "code",
   "execution_count": 14,
   "id": "edbfb222",
   "metadata": {},
   "outputs": [],
   "source": [
    "df_final= df_final.rename(columns={\"dataHora\": \"dia\"})\n",
    "df_resumo = pd.pivot_table(df_final, columns = df_final.dia.dt.day,values = ['coletas','medidores_instalados','efetividade'])\n",
    "df_efe=df_resumo.iloc[[1]]\n",
    "df_efe=df_efe.applymap(lambda x: \"{:.2%}\".format(x))"
   ]
  },
  {
   "cell_type": "code",
   "execution_count": 15,
   "id": "d089137b",
   "metadata": {},
   "outputs": [],
   "source": [
    "df_efe=df_resumo.iloc[[1]]\n",
    "df_efe=df_efe.applymap(lambda x: \"{:.2%}\".format(x))\n",
    "df_coletas = df_resumo.iloc[[0]]\n",
    "df_coletas=df_coletas.applymap(lambda x: \"{:.0f}\".format(x))\n",
    "df_instalados = df_resumo.iloc[[2]]\n",
    "df_instalados=df_instalados.applymap(lambda x: \"{:.0f}\".format(x))"
   ]
  },
  {
   "cell_type": "code",
   "execution_count": 16,
   "id": "3e52b59e",
   "metadata": {},
   "outputs": [],
   "source": [
    "df_email=pd.concat([df_instalados,df_coletas,df_efe])"
   ]
  },
  {
   "cell_type": "code",
   "execution_count": 17,
   "id": "2a2f3c77",
   "metadata": {},
   "outputs": [
    {
     "data": {
      "text/html": [
       "<div>\n",
       "<style scoped>\n",
       "    .dataframe tbody tr th:only-of-type {\n",
       "        vertical-align: middle;\n",
       "    }\n",
       "\n",
       "    .dataframe tbody tr th {\n",
       "        vertical-align: top;\n",
       "    }\n",
       "\n",
       "    .dataframe thead th {\n",
       "        text-align: right;\n",
       "    }\n",
       "</style>\n",
       "<table border=\"1\" class=\"dataframe\">\n",
       "  <thead>\n",
       "    <tr style=\"text-align: right;\">\n",
       "      <th>dia</th>\n",
       "      <th>1</th>\n",
       "      <th>2</th>\n",
       "      <th>3</th>\n",
       "      <th>4</th>\n",
       "      <th>5</th>\n",
       "      <th>6</th>\n",
       "      <th>7</th>\n",
       "      <th>8</th>\n",
       "      <th>9</th>\n",
       "      <th>10</th>\n",
       "      <th>11</th>\n",
       "      <th>12</th>\n",
       "      <th>13</th>\n",
       "      <th>14</th>\n",
       "      <th>15</th>\n",
       "      <th>16</th>\n",
       "      <th>17</th>\n",
       "      <th>18</th>\n",
       "      <th>19</th>\n",
       "      <th>20</th>\n",
       "    </tr>\n",
       "  </thead>\n",
       "  <tbody>\n",
       "    <tr>\n",
       "      <th>medidores_instalados</th>\n",
       "      <td>1019</td>\n",
       "      <td>1019</td>\n",
       "      <td>1020</td>\n",
       "      <td>1020</td>\n",
       "      <td>1020</td>\n",
       "      <td>1021</td>\n",
       "      <td>1021</td>\n",
       "      <td>1021</td>\n",
       "      <td>1021</td>\n",
       "      <td>1027</td>\n",
       "      <td>1027</td>\n",
       "      <td>1027</td>\n",
       "      <td>1028</td>\n",
       "      <td>1031</td>\n",
       "      <td>1031</td>\n",
       "      <td>1033</td>\n",
       "      <td>1034</td>\n",
       "      <td>1034</td>\n",
       "      <td>1036</td>\n",
       "      <td>1036</td>\n",
       "    </tr>\n",
       "    <tr>\n",
       "      <th>coletas</th>\n",
       "      <td>708</td>\n",
       "      <td>707</td>\n",
       "      <td>710</td>\n",
       "      <td>711</td>\n",
       "      <td>713</td>\n",
       "      <td>710</td>\n",
       "      <td>714</td>\n",
       "      <td>708</td>\n",
       "      <td>711</td>\n",
       "      <td>712</td>\n",
       "      <td>710</td>\n",
       "      <td>717</td>\n",
       "      <td>712</td>\n",
       "      <td>720</td>\n",
       "      <td>723</td>\n",
       "      <td>718</td>\n",
       "      <td>717</td>\n",
       "      <td>721</td>\n",
       "      <td>718</td>\n",
       "      <td>715</td>\n",
       "    </tr>\n",
       "    <tr>\n",
       "      <th>efetividade</th>\n",
       "      <td>69.48%</td>\n",
       "      <td>69.38%</td>\n",
       "      <td>69.61%</td>\n",
       "      <td>69.71%</td>\n",
       "      <td>69.90%</td>\n",
       "      <td>69.54%</td>\n",
       "      <td>69.93%</td>\n",
       "      <td>69.34%</td>\n",
       "      <td>69.64%</td>\n",
       "      <td>69.33%</td>\n",
       "      <td>69.13%</td>\n",
       "      <td>69.81%</td>\n",
       "      <td>69.26%</td>\n",
       "      <td>69.84%</td>\n",
       "      <td>70.13%</td>\n",
       "      <td>69.51%</td>\n",
       "      <td>69.34%</td>\n",
       "      <td>69.73%</td>\n",
       "      <td>69.31%</td>\n",
       "      <td>69.02%</td>\n",
       "    </tr>\n",
       "  </tbody>\n",
       "</table>\n",
       "</div>"
      ],
      "text/plain": [
       "dia                       1       2       3       4       5       6       7    \n",
       "medidores_instalados    1019    1019    1020    1020    1020    1021    1021  \\\n",
       "coletas                  708     707     710     711     713     710     714   \n",
       "efetividade           69.48%  69.38%  69.61%  69.71%  69.90%  69.54%  69.93%   \n",
       "\n",
       "dia                       8       9       10      11      12      13      14   \n",
       "medidores_instalados    1021    1021    1027    1027    1027    1028    1031  \\\n",
       "coletas                  708     711     712     710     717     712     720   \n",
       "efetividade           69.34%  69.64%  69.33%  69.13%  69.81%  69.26%  69.84%   \n",
       "\n",
       "dia                       15      16      17      18      19      20  \n",
       "medidores_instalados    1031    1033    1034    1034    1036    1036  \n",
       "coletas                  723     718     717     721     718     715  \n",
       "efetividade           70.13%  69.51%  69.34%  69.73%  69.31%  69.02%  "
      ]
     },
     "execution_count": 17,
     "metadata": {},
     "output_type": "execute_result"
    }
   ],
   "source": [
    "df_email"
   ]
  },
  {
   "cell_type": "code",
   "execution_count": 18,
   "id": "ed663f1c",
   "metadata": {},
   "outputs": [
    {
     "data": {
      "text/html": [
       "<style type=\"text/css\">\n",
       "#T_8dce5 th {\n",
       "  background-color: blue;\n",
       "  color: white;\n",
       "  text-align: center;\n",
       "}\n",
       "</style>\n",
       "<table id=\"T_8dce5\">\n",
       "  <caption>Efetividade</caption>\n",
       "  <thead>\n",
       "    <tr>\n",
       "      <th class=\"index_name level0\" >dia</th>\n",
       "      <th id=\"T_8dce5_level0_col0\" class=\"col_heading level0 col0\" >1</th>\n",
       "      <th id=\"T_8dce5_level0_col1\" class=\"col_heading level0 col1\" >2</th>\n",
       "      <th id=\"T_8dce5_level0_col2\" class=\"col_heading level0 col2\" >3</th>\n",
       "      <th id=\"T_8dce5_level0_col3\" class=\"col_heading level0 col3\" >4</th>\n",
       "      <th id=\"T_8dce5_level0_col4\" class=\"col_heading level0 col4\" >5</th>\n",
       "      <th id=\"T_8dce5_level0_col5\" class=\"col_heading level0 col5\" >6</th>\n",
       "      <th id=\"T_8dce5_level0_col6\" class=\"col_heading level0 col6\" >7</th>\n",
       "      <th id=\"T_8dce5_level0_col7\" class=\"col_heading level0 col7\" >8</th>\n",
       "      <th id=\"T_8dce5_level0_col8\" class=\"col_heading level0 col8\" >9</th>\n",
       "      <th id=\"T_8dce5_level0_col9\" class=\"col_heading level0 col9\" >10</th>\n",
       "      <th id=\"T_8dce5_level0_col10\" class=\"col_heading level0 col10\" >11</th>\n",
       "      <th id=\"T_8dce5_level0_col11\" class=\"col_heading level0 col11\" >12</th>\n",
       "      <th id=\"T_8dce5_level0_col12\" class=\"col_heading level0 col12\" >13</th>\n",
       "      <th id=\"T_8dce5_level0_col13\" class=\"col_heading level0 col13\" >14</th>\n",
       "      <th id=\"T_8dce5_level0_col14\" class=\"col_heading level0 col14\" >15</th>\n",
       "      <th id=\"T_8dce5_level0_col15\" class=\"col_heading level0 col15\" >16</th>\n",
       "      <th id=\"T_8dce5_level0_col16\" class=\"col_heading level0 col16\" >17</th>\n",
       "      <th id=\"T_8dce5_level0_col17\" class=\"col_heading level0 col17\" >18</th>\n",
       "      <th id=\"T_8dce5_level0_col18\" class=\"col_heading level0 col18\" >19</th>\n",
       "      <th id=\"T_8dce5_level0_col19\" class=\"col_heading level0 col19\" >20</th>\n",
       "    </tr>\n",
       "  </thead>\n",
       "  <tbody>\n",
       "    <tr>\n",
       "      <th id=\"T_8dce5_level0_row0\" class=\"row_heading level0 row0\" >medidores_instalados</th>\n",
       "      <td id=\"T_8dce5_row0_col0\" class=\"data row0 col0\" >1019</td>\n",
       "      <td id=\"T_8dce5_row0_col1\" class=\"data row0 col1\" >1019</td>\n",
       "      <td id=\"T_8dce5_row0_col2\" class=\"data row0 col2\" >1020</td>\n",
       "      <td id=\"T_8dce5_row0_col3\" class=\"data row0 col3\" >1020</td>\n",
       "      <td id=\"T_8dce5_row0_col4\" class=\"data row0 col4\" >1020</td>\n",
       "      <td id=\"T_8dce5_row0_col5\" class=\"data row0 col5\" >1021</td>\n",
       "      <td id=\"T_8dce5_row0_col6\" class=\"data row0 col6\" >1021</td>\n",
       "      <td id=\"T_8dce5_row0_col7\" class=\"data row0 col7\" >1021</td>\n",
       "      <td id=\"T_8dce5_row0_col8\" class=\"data row0 col8\" >1021</td>\n",
       "      <td id=\"T_8dce5_row0_col9\" class=\"data row0 col9\" >1027</td>\n",
       "      <td id=\"T_8dce5_row0_col10\" class=\"data row0 col10\" >1027</td>\n",
       "      <td id=\"T_8dce5_row0_col11\" class=\"data row0 col11\" >1027</td>\n",
       "      <td id=\"T_8dce5_row0_col12\" class=\"data row0 col12\" >1028</td>\n",
       "      <td id=\"T_8dce5_row0_col13\" class=\"data row0 col13\" >1031</td>\n",
       "      <td id=\"T_8dce5_row0_col14\" class=\"data row0 col14\" >1031</td>\n",
       "      <td id=\"T_8dce5_row0_col15\" class=\"data row0 col15\" >1033</td>\n",
       "      <td id=\"T_8dce5_row0_col16\" class=\"data row0 col16\" >1034</td>\n",
       "      <td id=\"T_8dce5_row0_col17\" class=\"data row0 col17\" >1034</td>\n",
       "      <td id=\"T_8dce5_row0_col18\" class=\"data row0 col18\" >1036</td>\n",
       "      <td id=\"T_8dce5_row0_col19\" class=\"data row0 col19\" >1036</td>\n",
       "    </tr>\n",
       "    <tr>\n",
       "      <th id=\"T_8dce5_level0_row1\" class=\"row_heading level0 row1\" >coletas</th>\n",
       "      <td id=\"T_8dce5_row1_col0\" class=\"data row1 col0\" >708</td>\n",
       "      <td id=\"T_8dce5_row1_col1\" class=\"data row1 col1\" >707</td>\n",
       "      <td id=\"T_8dce5_row1_col2\" class=\"data row1 col2\" >710</td>\n",
       "      <td id=\"T_8dce5_row1_col3\" class=\"data row1 col3\" >711</td>\n",
       "      <td id=\"T_8dce5_row1_col4\" class=\"data row1 col4\" >713</td>\n",
       "      <td id=\"T_8dce5_row1_col5\" class=\"data row1 col5\" >710</td>\n",
       "      <td id=\"T_8dce5_row1_col6\" class=\"data row1 col6\" >714</td>\n",
       "      <td id=\"T_8dce5_row1_col7\" class=\"data row1 col7\" >708</td>\n",
       "      <td id=\"T_8dce5_row1_col8\" class=\"data row1 col8\" >711</td>\n",
       "      <td id=\"T_8dce5_row1_col9\" class=\"data row1 col9\" >712</td>\n",
       "      <td id=\"T_8dce5_row1_col10\" class=\"data row1 col10\" >710</td>\n",
       "      <td id=\"T_8dce5_row1_col11\" class=\"data row1 col11\" >717</td>\n",
       "      <td id=\"T_8dce5_row1_col12\" class=\"data row1 col12\" >712</td>\n",
       "      <td id=\"T_8dce5_row1_col13\" class=\"data row1 col13\" >720</td>\n",
       "      <td id=\"T_8dce5_row1_col14\" class=\"data row1 col14\" >723</td>\n",
       "      <td id=\"T_8dce5_row1_col15\" class=\"data row1 col15\" >718</td>\n",
       "      <td id=\"T_8dce5_row1_col16\" class=\"data row1 col16\" >717</td>\n",
       "      <td id=\"T_8dce5_row1_col17\" class=\"data row1 col17\" >721</td>\n",
       "      <td id=\"T_8dce5_row1_col18\" class=\"data row1 col18\" >718</td>\n",
       "      <td id=\"T_8dce5_row1_col19\" class=\"data row1 col19\" >715</td>\n",
       "    </tr>\n",
       "    <tr>\n",
       "      <th id=\"T_8dce5_level0_row2\" class=\"row_heading level0 row2\" >efetividade</th>\n",
       "      <td id=\"T_8dce5_row2_col0\" class=\"data row2 col0\" >69.48%</td>\n",
       "      <td id=\"T_8dce5_row2_col1\" class=\"data row2 col1\" >69.38%</td>\n",
       "      <td id=\"T_8dce5_row2_col2\" class=\"data row2 col2\" >69.61%</td>\n",
       "      <td id=\"T_8dce5_row2_col3\" class=\"data row2 col3\" >69.71%</td>\n",
       "      <td id=\"T_8dce5_row2_col4\" class=\"data row2 col4\" >69.90%</td>\n",
       "      <td id=\"T_8dce5_row2_col5\" class=\"data row2 col5\" >69.54%</td>\n",
       "      <td id=\"T_8dce5_row2_col6\" class=\"data row2 col6\" >69.93%</td>\n",
       "      <td id=\"T_8dce5_row2_col7\" class=\"data row2 col7\" >69.34%</td>\n",
       "      <td id=\"T_8dce5_row2_col8\" class=\"data row2 col8\" >69.64%</td>\n",
       "      <td id=\"T_8dce5_row2_col9\" class=\"data row2 col9\" >69.33%</td>\n",
       "      <td id=\"T_8dce5_row2_col10\" class=\"data row2 col10\" >69.13%</td>\n",
       "      <td id=\"T_8dce5_row2_col11\" class=\"data row2 col11\" >69.81%</td>\n",
       "      <td id=\"T_8dce5_row2_col12\" class=\"data row2 col12\" >69.26%</td>\n",
       "      <td id=\"T_8dce5_row2_col13\" class=\"data row2 col13\" >69.84%</td>\n",
       "      <td id=\"T_8dce5_row2_col14\" class=\"data row2 col14\" >70.13%</td>\n",
       "      <td id=\"T_8dce5_row2_col15\" class=\"data row2 col15\" >69.51%</td>\n",
       "      <td id=\"T_8dce5_row2_col16\" class=\"data row2 col16\" >69.34%</td>\n",
       "      <td id=\"T_8dce5_row2_col17\" class=\"data row2 col17\" >69.73%</td>\n",
       "      <td id=\"T_8dce5_row2_col18\" class=\"data row2 col18\" >69.31%</td>\n",
       "      <td id=\"T_8dce5_row2_col19\" class=\"data row2 col19\" >69.02%</td>\n",
       "    </tr>\n",
       "  </tbody>\n",
       "</table>\n"
      ],
      "text/plain": [
       "<pandas.io.formats.style.Styler at 0x2156d976c10>"
      ]
     },
     "execution_count": 18,
     "metadata": {},
     "output_type": "execute_result"
    }
   ],
   "source": [
    "styler = df_email.style\n",
    "styler = styler.set_table_styles([{'selector': 'th',\n",
    "                                   'props': [('background-color', 'blue'),\n",
    "                                             ('color', 'white'),\n",
    "                                             (\"text-align\", \"center\")]}])\n",
    "styler.set_caption('Efetividade')"
   ]
  },
  {
   "cell_type": "code",
   "execution_count": 19,
   "id": "746c6bc7",
   "metadata": {},
   "outputs": [],
   "source": [
    "filename = '\\efetividade.png'"
   ]
  },
  {
   "cell_type": "code",
   "execution_count": 20,
   "id": "d2d6ac35",
   "metadata": {},
   "outputs": [],
   "source": [
    "lista_destino= \"lucas.vieira@way2.com.br;thais.leite@way2.com.br;anderson.fagundes@enel.com;waleska.juvenal@way2.com.br;gustavo.bertazzo@enel.com;viviane.nigula@enel.com;weules.correia@enel.com;adriana.paiva@enel.com;marcelo.correa@enel.com;jose.assis@way2.com.br;barbara.goncalves@enel.com;marthely.badika@enel.com;americo.ferreira@enel.com;lindoval.silva@way2.com.br\""
   ]
  },
  {
   "cell_type": "code",
   "execution_count": 21,
   "id": "d6460734",
   "metadata": {},
   "outputs": [],
   "source": [
    "#lista_destino= \"lucas.vieira@way2.com.br\""
   ]
  },
  {
   "cell_type": "code",
   "execution_count": 22,
   "id": "bd76e9d6",
   "metadata": {},
   "outputs": [],
   "source": [
    "# Convert DataFrame to HTML\n",
    "html_table = df_email.to_html(index=True,classes='center')\n",
    "\n",
    "# Create Outlook application object\n",
    "outlook = win32.Dispatch('outlook.application')\n",
    "\n",
    "# Create a new email message\n",
    "mail = outlook.CreateItem(0)\n",
    "mail.To = lista_destino\n",
    "mail.Subject = ' Informe de Efetividade de Coletas REN871 - RIO DE JANEIRO'\n",
    "attachment = mail.Attachments.Add( r\"C:\\Users\\lucas.vieira\\Desktop\\projetos\\extracao_efetividade_api\" +filename)\n",
    "attachment.PropertyAccessor.SetProperty(\"http://schemas.microsoft.com/mapi/proptag/0x3712001E\", 'efetividade.png')\n",
    "# Set the HTML body of the email message\n",
    "mail.HTMLBody = f'<p>Prezados,<br> Segue relatório de Efetividade de Coletas Diárias do medidores Nansen NSX da REN871.</p>' + styler.to_html()\n",
    "mail.HTMLBody = mail.HTMLBody + '<br><img src=\"cid:efetividade.png\"><br>'\n",
    "# Send the email message\n",
    "mail.Send()"
   ]
  }
 ],
 "metadata": {
  "kernelspec": {
   "display_name": "Python 3 (ipykernel)",
   "language": "python",
   "name": "python3"
  },
  "language_info": {
   "codemirror_mode": {
    "name": "ipython",
    "version": 3
   },
   "file_extension": ".py",
   "mimetype": "text/x-python",
   "name": "python",
   "nbconvert_exporter": "python",
   "pygments_lexer": "ipython3",
   "version": "3.11.3"
  }
 },
 "nbformat": 4,
 "nbformat_minor": 5
}
